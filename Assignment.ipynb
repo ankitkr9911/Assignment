{
  "nbformat": 4,
  "nbformat_minor": 0,
  "metadata": {
    "colab": {
      "provenance": [],
      "gpuType": "T4"
    },
    "kernelspec": {
      "name": "python3",
      "display_name": "Python 3"
    },
    "language_info": {
      "name": "python"
    },
    "accelerator": "GPU"
  },
  "cells": [
    {
      "cell_type": "code",
      "source": [
        "!pip install mediapipe opencv-python-headless numpy"
      ],
      "metadata": {
        "colab": {
          "base_uri": "https://localhost:8080/",
          "height": 1000
        },
        "id": "yY2w3eAe9qDX",
        "outputId": "417a46e2-809b-4898-cb72-999be367ea64"
      },
      "execution_count": null,
      "outputs": [
        {
          "output_type": "stream",
          "name": "stdout",
          "text": [
            "Collecting mediapipe\n",
            "  Downloading mediapipe-0.10.21-cp311-cp311-manylinux_2_28_x86_64.whl.metadata (9.7 kB)\n",
            "Requirement already satisfied: opencv-python-headless in /usr/local/lib/python3.11/dist-packages (4.12.0.88)\n",
            "Requirement already satisfied: numpy in /usr/local/lib/python3.11/dist-packages (2.0.2)\n",
            "Requirement already satisfied: absl-py in /usr/local/lib/python3.11/dist-packages (from mediapipe) (1.4.0)\n",
            "Requirement already satisfied: attrs>=19.1.0 in /usr/local/lib/python3.11/dist-packages (from mediapipe) (25.3.0)\n",
            "Requirement already satisfied: flatbuffers>=2.0 in /usr/local/lib/python3.11/dist-packages (from mediapipe) (25.2.10)\n",
            "Requirement already satisfied: jax in /usr/local/lib/python3.11/dist-packages (from mediapipe) (0.5.3)\n",
            "Requirement already satisfied: jaxlib in /usr/local/lib/python3.11/dist-packages (from mediapipe) (0.5.3)\n",
            "Requirement already satisfied: matplotlib in /usr/local/lib/python3.11/dist-packages (from mediapipe) (3.10.0)\n",
            "Collecting numpy\n",
            "  Downloading numpy-1.26.4-cp311-cp311-manylinux_2_17_x86_64.manylinux2014_x86_64.whl.metadata (61 kB)\n",
            "\u001b[2K     \u001b[90m━━━━━━━━━━━━━━━━━━━━━━━━━━━━━━━━━━━━━━━━\u001b[0m \u001b[32m61.0/61.0 kB\u001b[0m \u001b[31m3.8 MB/s\u001b[0m eta \u001b[36m0:00:00\u001b[0m\n",
            "\u001b[?25hRequirement already satisfied: opencv-contrib-python in /usr/local/lib/python3.11/dist-packages (from mediapipe) (4.12.0.88)\n",
            "Collecting protobuf<5,>=4.25.3 (from mediapipe)\n",
            "  Downloading protobuf-4.25.8-cp37-abi3-manylinux2014_x86_64.whl.metadata (541 bytes)\n",
            "Collecting sounddevice>=0.4.4 (from mediapipe)\n",
            "  Downloading sounddevice-0.5.2-py3-none-any.whl.metadata (1.6 kB)\n",
            "Requirement already satisfied: sentencepiece in /usr/local/lib/python3.11/dist-packages (from mediapipe) (0.2.1)\n",
            "INFO: pip is looking at multiple versions of opencv-python-headless to determine which version is compatible with other requirements. This could take a while.\n",
            "Collecting opencv-python-headless\n",
            "  Downloading opencv_python_headless-4.11.0.86-cp37-abi3-manylinux_2_17_x86_64.manylinux2014_x86_64.whl.metadata (20 kB)\n",
            "Requirement already satisfied: CFFI>=1.0 in /usr/local/lib/python3.11/dist-packages (from sounddevice>=0.4.4->mediapipe) (1.17.1)\n",
            "Requirement already satisfied: ml_dtypes>=0.4.0 in /usr/local/lib/python3.11/dist-packages (from jax->mediapipe) (0.5.3)\n",
            "Requirement already satisfied: opt_einsum in /usr/local/lib/python3.11/dist-packages (from jax->mediapipe) (3.4.0)\n",
            "Requirement already satisfied: scipy>=1.11.1 in /usr/local/lib/python3.11/dist-packages (from jax->mediapipe) (1.16.1)\n",
            "Requirement already satisfied: contourpy>=1.0.1 in /usr/local/lib/python3.11/dist-packages (from matplotlib->mediapipe) (1.3.3)\n",
            "Requirement already satisfied: cycler>=0.10 in /usr/local/lib/python3.11/dist-packages (from matplotlib->mediapipe) (0.12.1)\n",
            "Requirement already satisfied: fonttools>=4.22.0 in /usr/local/lib/python3.11/dist-packages (from matplotlib->mediapipe) (4.59.0)\n",
            "Requirement already satisfied: kiwisolver>=1.3.1 in /usr/local/lib/python3.11/dist-packages (from matplotlib->mediapipe) (1.4.9)\n",
            "Requirement already satisfied: packaging>=20.0 in /usr/local/lib/python3.11/dist-packages (from matplotlib->mediapipe) (25.0)\n",
            "Requirement already satisfied: pillow>=8 in /usr/local/lib/python3.11/dist-packages (from matplotlib->mediapipe) (11.3.0)\n",
            "Requirement already satisfied: pyparsing>=2.3.1 in /usr/local/lib/python3.11/dist-packages (from matplotlib->mediapipe) (3.2.3)\n",
            "Requirement already satisfied: python-dateutil>=2.7 in /usr/local/lib/python3.11/dist-packages (from matplotlib->mediapipe) (2.9.0.post0)\n",
            "INFO: pip is looking at multiple versions of opencv-contrib-python to determine which version is compatible with other requirements. This could take a while.\n",
            "Collecting opencv-contrib-python (from mediapipe)\n",
            "  Downloading opencv_contrib_python-4.11.0.86-cp37-abi3-manylinux_2_17_x86_64.manylinux2014_x86_64.whl.metadata (20 kB)\n",
            "Requirement already satisfied: pycparser in /usr/local/lib/python3.11/dist-packages (from CFFI>=1.0->sounddevice>=0.4.4->mediapipe) (2.22)\n",
            "Requirement already satisfied: six>=1.5 in /usr/local/lib/python3.11/dist-packages (from python-dateutil>=2.7->matplotlib->mediapipe) (1.17.0)\n",
            "Downloading mediapipe-0.10.21-cp311-cp311-manylinux_2_28_x86_64.whl (35.6 MB)\n",
            "\u001b[2K   \u001b[90m━━━━━━━━━━━━━━━━━━━━━━━━━━━━━━━━━━━━━━━━\u001b[0m \u001b[32m35.6/35.6 MB\u001b[0m \u001b[31m65.1 MB/s\u001b[0m eta \u001b[36m0:00:00\u001b[0m\n",
            "\u001b[?25hDownloading opencv_python_headless-4.11.0.86-cp37-abi3-manylinux_2_17_x86_64.manylinux2014_x86_64.whl (50.0 MB)\n",
            "\u001b[2K   \u001b[90m━━━━━━━━━━━━━━━━━━━━━━━━━━━━━━━━━━━━━━━━\u001b[0m \u001b[32m50.0/50.0 MB\u001b[0m \u001b[31m17.2 MB/s\u001b[0m eta \u001b[36m0:00:00\u001b[0m\n",
            "\u001b[?25hDownloading numpy-1.26.4-cp311-cp311-manylinux_2_17_x86_64.manylinux2014_x86_64.whl (18.3 MB)\n",
            "\u001b[2K   \u001b[90m━━━━━━━━━━━━━━━━━━━━━━━━━━━━━━━━━━━━━━━━\u001b[0m \u001b[32m18.3/18.3 MB\u001b[0m \u001b[31m95.3 MB/s\u001b[0m eta \u001b[36m0:00:00\u001b[0m\n",
            "\u001b[?25hDownloading protobuf-4.25.8-cp37-abi3-manylinux2014_x86_64.whl (294 kB)\n",
            "\u001b[2K   \u001b[90m━━━━━━━━━━━━━━━━━━━━━━━━━━━━━━━━━━━━━━━━\u001b[0m \u001b[32m294.9/294.9 kB\u001b[0m \u001b[31m23.2 MB/s\u001b[0m eta \u001b[36m0:00:00\u001b[0m\n",
            "\u001b[?25hDownloading sounddevice-0.5.2-py3-none-any.whl (32 kB)\n",
            "Downloading opencv_contrib_python-4.11.0.86-cp37-abi3-manylinux_2_17_x86_64.manylinux2014_x86_64.whl (69.1 MB)\n",
            "\u001b[2K   \u001b[90m━━━━━━━━━━━━━━━━━━━━━━━━━━━━━━━━━━━━━━━━\u001b[0m \u001b[32m69.1/69.1 MB\u001b[0m \u001b[31m10.4 MB/s\u001b[0m eta \u001b[36m0:00:00\u001b[0m\n",
            "\u001b[?25hInstalling collected packages: protobuf, numpy, sounddevice, opencv-python-headless, opencv-contrib-python, mediapipe\n",
            "  Attempting uninstall: protobuf\n",
            "    Found existing installation: protobuf 5.29.5\n",
            "    Uninstalling protobuf-5.29.5:\n",
            "      Successfully uninstalled protobuf-5.29.5\n",
            "  Attempting uninstall: numpy\n",
            "    Found existing installation: numpy 2.0.2\n",
            "    Uninstalling numpy-2.0.2:\n",
            "      Successfully uninstalled numpy-2.0.2\n",
            "  Attempting uninstall: opencv-python-headless\n",
            "    Found existing installation: opencv-python-headless 4.12.0.88\n",
            "    Uninstalling opencv-python-headless-4.12.0.88:\n",
            "      Successfully uninstalled opencv-python-headless-4.12.0.88\n",
            "  Attempting uninstall: opencv-contrib-python\n",
            "    Found existing installation: opencv-contrib-python 4.12.0.88\n",
            "    Uninstalling opencv-contrib-python-4.12.0.88:\n",
            "      Successfully uninstalled opencv-contrib-python-4.12.0.88\n",
            "\u001b[31mERROR: pip's dependency resolver does not currently take into account all the packages that are installed. This behaviour is the source of the following dependency conflicts.\n",
            "ydf 0.13.0 requires protobuf<7.0.0,>=5.29.1, but you have protobuf 4.25.8 which is incompatible.\n",
            "thinc 8.3.6 requires numpy<3.0.0,>=2.0.0, but you have numpy 1.26.4 which is incompatible.\n",
            "grpcio-status 1.71.2 requires protobuf<6.0dev,>=5.26.1, but you have protobuf 4.25.8 which is incompatible.\n",
            "opencv-python 4.12.0.88 requires numpy<2.3.0,>=2; python_version >= \"3.9\", but you have numpy 1.26.4 which is incompatible.\u001b[0m\u001b[31m\n",
            "\u001b[0mSuccessfully installed mediapipe-0.10.21 numpy-1.26.4 opencv-contrib-python-4.11.0.86 opencv-python-headless-4.11.0.86 protobuf-4.25.8 sounddevice-0.5.2\n"
          ]
        },
        {
          "output_type": "display_data",
          "data": {
            "application/vnd.colab-display-data+json": {
              "pip_warning": {
                "packages": [
                  "google",
                  "numpy"
                ]
              },
              "id": "f8ad71740ede4a0fb6ba2599f2b62116"
            }
          },
          "metadata": {}
        }
      ]
    },
    {
      "cell_type": "code",
      "source": [
        "!pip install -U google-genai  # Python SDK for Gemini"
      ],
      "metadata": {
        "colab": {
          "base_uri": "https://localhost:8080/",
          "height": 704
        },
        "id": "l2n517oDDj8n",
        "outputId": "22ea8db9-fc7b-4911-f1fa-58565d90d12f"
      },
      "execution_count": null,
      "outputs": [
        {
          "output_type": "stream",
          "name": "stdout",
          "text": [
            "Requirement already satisfied: google-genai in /usr/local/lib/python3.11/dist-packages (1.29.0)\n",
            "Collecting google-genai\n",
            "  Downloading google_genai-1.30.0-py3-none-any.whl.metadata (43 kB)\n",
            "\u001b[?25l     \u001b[90m━━━━━━━━━━━━━━━━━━━━━━━━━━━━━━━━━━━━━━━━\u001b[0m \u001b[32m0.0/43.1 kB\u001b[0m \u001b[31m?\u001b[0m eta \u001b[36m-:--:--\u001b[0m\r\u001b[2K     \u001b[90m━━━━━━━━━━━━━━━━━━━━━━━━━━━━━━━━━━━━━━━━\u001b[0m \u001b[32m43.1/43.1 kB\u001b[0m \u001b[31m2.8 MB/s\u001b[0m eta \u001b[36m0:00:00\u001b[0m\n",
            "\u001b[?25hRequirement already satisfied: anyio<5.0.0,>=4.8.0 in /usr/local/lib/python3.11/dist-packages (from google-genai) (4.10.0)\n",
            "Requirement already satisfied: google-auth<3.0.0,>=2.14.1 in /usr/local/lib/python3.11/dist-packages (from google-genai) (2.38.0)\n",
            "Requirement already satisfied: httpx<1.0.0,>=0.28.1 in /usr/local/lib/python3.11/dist-packages (from google-genai) (0.28.1)\n",
            "Requirement already satisfied: pydantic<3.0.0,>=2.0.0 in /usr/local/lib/python3.11/dist-packages (from google-genai) (2.11.7)\n",
            "Requirement already satisfied: requests<3.0.0,>=2.28.1 in /usr/local/lib/python3.11/dist-packages (from google-genai) (2.32.3)\n",
            "Requirement already satisfied: tenacity<9.2.0,>=8.2.3 in /usr/local/lib/python3.11/dist-packages (from google-genai) (9.1.2)\n",
            "Requirement already satisfied: websockets<15.1.0,>=13.0.0 in /usr/local/lib/python3.11/dist-packages (from google-genai) (15.0.1)\n",
            "Requirement already satisfied: typing-extensions<5.0.0,>=4.11.0 in /usr/local/lib/python3.11/dist-packages (from google-genai) (4.14.1)\n",
            "Requirement already satisfied: idna>=2.8 in /usr/local/lib/python3.11/dist-packages (from anyio<5.0.0,>=4.8.0->google-genai) (3.10)\n",
            "Requirement already satisfied: sniffio>=1.1 in /usr/local/lib/python3.11/dist-packages (from anyio<5.0.0,>=4.8.0->google-genai) (1.3.1)\n",
            "Requirement already satisfied: cachetools<6.0,>=2.0.0 in /usr/local/lib/python3.11/dist-packages (from google-auth<3.0.0,>=2.14.1->google-genai) (5.5.2)\n",
            "Requirement already satisfied: pyasn1-modules>=0.2.1 in /usr/local/lib/python3.11/dist-packages (from google-auth<3.0.0,>=2.14.1->google-genai) (0.4.2)\n",
            "Requirement already satisfied: rsa<5,>=3.1.4 in /usr/local/lib/python3.11/dist-packages (from google-auth<3.0.0,>=2.14.1->google-genai) (4.9.1)\n",
            "Requirement already satisfied: certifi in /usr/local/lib/python3.11/dist-packages (from httpx<1.0.0,>=0.28.1->google-genai) (2025.8.3)\n",
            "Requirement already satisfied: httpcore==1.* in /usr/local/lib/python3.11/dist-packages (from httpx<1.0.0,>=0.28.1->google-genai) (1.0.9)\n",
            "Requirement already satisfied: h11>=0.16 in /usr/local/lib/python3.11/dist-packages (from httpcore==1.*->httpx<1.0.0,>=0.28.1->google-genai) (0.16.0)\n",
            "Requirement already satisfied: annotated-types>=0.6.0 in /usr/local/lib/python3.11/dist-packages (from pydantic<3.0.0,>=2.0.0->google-genai) (0.7.0)\n",
            "Requirement already satisfied: pydantic-core==2.33.2 in /usr/local/lib/python3.11/dist-packages (from pydantic<3.0.0,>=2.0.0->google-genai) (2.33.2)\n",
            "Requirement already satisfied: typing-inspection>=0.4.0 in /usr/local/lib/python3.11/dist-packages (from pydantic<3.0.0,>=2.0.0->google-genai) (0.4.1)\n",
            "Requirement already satisfied: charset-normalizer<4,>=2 in /usr/local/lib/python3.11/dist-packages (from requests<3.0.0,>=2.28.1->google-genai) (3.4.3)\n",
            "Requirement already satisfied: urllib3<3,>=1.21.1 in /usr/local/lib/python3.11/dist-packages (from requests<3.0.0,>=2.28.1->google-genai) (2.5.0)\n",
            "Requirement already satisfied: pyasn1<0.7.0,>=0.6.1 in /usr/local/lib/python3.11/dist-packages (from pyasn1-modules>=0.2.1->google-auth<3.0.0,>=2.14.1->google-genai) (0.6.1)\n",
            "Downloading google_genai-1.30.0-py3-none-any.whl (229 kB)\n",
            "\u001b[2K   \u001b[90m━━━━━━━━━━━━━━━━━━━━━━━━━━━━━━━━━━━━━━━━\u001b[0m \u001b[32m229.3/229.3 kB\u001b[0m \u001b[31m10.7 MB/s\u001b[0m eta \u001b[36m0:00:00\u001b[0m\n",
            "\u001b[?25hInstalling collected packages: google-genai\n",
            "  Attempting uninstall: google-genai\n",
            "    Found existing installation: google-genai 1.29.0\n",
            "    Uninstalling google-genai-1.29.0:\n",
            "      Successfully uninstalled google-genai-1.29.0\n",
            "Successfully installed google-genai-1.30.0\n"
          ]
        },
        {
          "output_type": "display_data",
          "data": {
            "application/vnd.colab-display-data+json": {
              "pip_warning": {
                "packages": [
                  "google"
                ]
              },
              "id": "6918b3cc9ab8450695b1726aae158240"
            }
          },
          "metadata": {}
        }
      ]
    },
    {
      "cell_type": "code",
      "execution_count": null,
      "metadata": {
        "id": "x8Gxskb_9lPB"
      },
      "outputs": [],
      "source": [
        "import cv2\n",
        "import mediapipe as mp\n",
        "import numpy as np\n",
        "import json\n",
        "import os\n",
        "import math\n",
        "import matplotlib.pyplot as plt\n",
        "\n",
        "from google.colab import files\n",
        "from google.genai import Client\n",
        "from google.genai import types"
      ]
    },
    {
      "cell_type": "code",
      "source": [
        "import os\n",
        "\n",
        "os.environ[\"GEMINI_API_KEY\"] = \"your-gemini-api-key\""
      ],
      "metadata": {
        "id": "moMt5XlWFPjg"
      },
      "execution_count": null,
      "outputs": []
    },
    {
      "cell_type": "code",
      "source": [
        "client = Client(api_key=os.environ[\"GEMINI_API_KEY\"])"
      ],
      "metadata": {
        "id": "Ka8NcmKNDpIP"
      },
      "execution_count": null,
      "outputs": []
    },
    {
      "cell_type": "code",
      "source": [
        "OUTPUT_DIR = \"output\"\n",
        "os.makedirs(OUTPUT_DIR, exist_ok=True)\n",
        "\n",
        "VIDEO_PATH = \"input_video.mp4\"\n",
        "OUTPUT_VIDEO = os.path.join(OUTPUT_DIR, \"annotated_video.mp4\")\n",
        "METRICS_FILE = os.path.join(OUTPUT_DIR, \"metrics_log.json\")\n",
        "EVAL_FILE = os.path.join(OUTPUT_DIR, \"evaluation.json\")\n",
        "OUTPUT_PS = os.path.join(OUTPUT_DIR, 'output_phase_seg.mp4')\n",
        "SWING_VIDEO_FILE = os.path.join(OUTPUT_DIR, \"bat_swing_analysis.mp4\")\n",
        "REPORT_FILE = os.path.join(OUTPUT_DIR, \"biomechanics_report.png\")"
      ],
      "metadata": {
        "id": "cKDnupH99yAj"
      },
      "execution_count": null,
      "outputs": []
    },
    {
      "cell_type": "code",
      "source": [
        "mp_pose = mp.solutions.pose\n",
        "mp_drawing = mp.solutions.drawing_utils"
      ],
      "metadata": {
        "id": "QtZRw63Y91Il"
      },
      "execution_count": null,
      "outputs": []
    },
    {
      "cell_type": "markdown",
      "source": [
        "## **Utility Functions**"
      ],
      "metadata": {
        "id": "1_RJbiZooUjP"
      }
    },
    {
      "cell_type": "code",
      "source": [
        "def calculate_angle(a, b, c):\n",
        "    \"\"\"\n",
        "    Calculates the angle between three points (a, b, c) in degrees.\n",
        "    Point b is the vertex of the angle.\n",
        "    \"\"\"\n",
        "    a, b, c = np.array(a), np.array(b), np.array(c)\n",
        "    dot_product = np.dot(a - b, c - b)\n",
        "    norm_product = np.linalg.norm(a - b) * np.linalg.norm(c - b)\n",
        "    if norm_product == 0:\n",
        "        return 0.0\n",
        "    cosine = dot_product / (norm_product + 1e-6)\n",
        "    return np.degrees(np.arccos(np.clip(cosine, -1.0, 1.0)))"
      ],
      "metadata": {
        "id": "TtPtiAhN93T2"
      },
      "execution_count": null,
      "outputs": []
    },
    {
      "cell_type": "code",
      "source": [
        "def generate_feedback_with_gemini(scores):\n",
        "    \"\"\"\n",
        "    Generates AI-powered coaching feedback using the Gemini API.\n",
        "    This function will be much more effective with the improved metrics.\n",
        "    \"\"\"\n",
        "    # Assuming the API client is already initialized\n",
        "    client = Client(api_key=os.environ[\"GEMINI_API_KEY\"])\n",
        "\n",
        "    prompt = (\n",
        "        \"You’re an expert cricket batting coach. \"\n",
        "        \"Here are the shot biomechanics scores and data:\\\\n\"\n",
        "        f\"Average Spine Lean (relative to vertical): {scores.get('Balance', 'N/A')} degrees\\\\n\"\n",
        "        f\"Average Head Horizontal Movement: {scores.get('Head Position', 'N/A')} pixels\\\\n\"\n",
        "        f\"Average Elbow Angle: {scores.get('Swing Control', 'N/A')} degrees\\\\n\"\n",
        "        f\"Average Foot Position (relative to start): {scores.get('Footwork', 'N/A')}\\\\n\\\\n\"\n",
        "        \"Please provide 1-2 clear, specific lines of constructive feedback on each category.\"\n",
        "        \"Give actionable advice based on these metrics.\"\n",
        "    )\n",
        "\n",
        "    response = client.models.generate_content(\n",
        "        model=\"gemini-2.5-pro\",\n",
        "        contents=prompt\n",
        "    )\n",
        "    return response.text"
      ],
      "metadata": {
        "id": "MQQvtDr3DggG"
      },
      "execution_count": null,
      "outputs": []
    },
    {
      "cell_type": "markdown",
      "source": [
        "## **Analyze video**"
      ],
      "metadata": {
        "id": "p86YCQMGoOTP"
      }
    },
    {
      "cell_type": "code",
      "source": [
        "def analyze_video(video_path):\n",
        "    \"\"\"\n",
        "    Analyzes a video of a cricket batter and calculates biomechanical metrics.\n",
        "    \"\"\"\n",
        "    cap = cv2.VideoCapture(video_path)\n",
        "    if not cap.isOpened():\n",
        "        print(f\"Error: Could not open video file {video_path}\")\n",
        "        return\n",
        "\n",
        "    fps = int(cap.get(cv2.CAP_PROP_FPS)) or 25\n",
        "    width = int(cap.get(cv2.CAP_PROP_FRAME_WIDTH))\n",
        "    height = int(cap.get(cv2.CAP_PROP_FRAME_HEIGHT))\n",
        "\n",
        "    out = cv2.VideoWriter(\n",
        "        OUTPUT_VIDEO, cv2.VideoWriter_fourcc(*\"mp4v\"), fps, (width, height)\n",
        "    )\n",
        "\n",
        "    metrics_log = {\n",
        "        \"elbow_angles\": [],\n",
        "        \"spine_leans\": [],\n",
        "        \"head_horizontal_movement\": [],\n",
        "        \"foot_positions_x\": [],\n",
        "    }\n",
        "\n",
        "    prev_landmarks = None\n",
        "\n",
        "    with mp_pose.Pose(min_detection_confidence=0.5, min_tracking_confidence=0.5) as pose:\n",
        "        while cap.isOpened():\n",
        "            ret, frame = cap.read()\n",
        "            if not ret:\n",
        "                break\n",
        "\n",
        "            image = cv2.cvtColor(frame, cv2.COLOR_BGR2RGB)\n",
        "            results = pose.process(image)\n",
        "            image = cv2.cvtColor(image, cv2.COLOR_RGB2BGR)\n",
        "\n",
        "            if results.pose_landmarks:\n",
        "                lm = results.pose_landmarks.landmark\n",
        "\n",
        "                def get_point(idx):\n",
        "                    return [lm[idx].x * width, lm[idx].y * height]\n",
        "\n",
        "                left_shoulder = get_point(mp_pose.PoseLandmark.LEFT_SHOULDER.value)\n",
        "                left_elbow = get_point(mp_pose.PoseLandmark.LEFT_ELBOW.value)\n",
        "                left_wrist = get_point(mp_pose.PoseLandmark.LEFT_WRIST.value)\n",
        "                left_hip = get_point(mp_pose.PoseLandmark.LEFT_HIP.value)\n",
        "                left_ankle = get_point(mp_pose.PoseLandmark.LEFT_ANKLE.value)\n",
        "                head = get_point(mp_pose.PoseLandmark.NOSE.value)\n",
        "\n",
        "                elbow_angle = calculate_angle(left_shoulder, left_elbow, left_wrist)\n",
        "                metrics_log[\"elbow_angles\"].append(elbow_angle)\n",
        "\n",
        "                vertical_point = [left_shoulder[0], left_shoulder[1] - 100]\n",
        "                spine_lean = calculate_angle(left_hip, left_shoulder, vertical_point)\n",
        "                metrics_log[\"spine_leans\"].append(spine_lean)\n",
        "\n",
        "                if prev_landmarks:\n",
        "                    prev_head_x = prev_landmarks.landmark[mp_pose.PoseLandmark.NOSE.value].x * width\n",
        "                    head_movement = abs(head[0] - prev_head_x)\n",
        "                    metrics_log[\"head_horizontal_movement\"].append(head_movement)\n",
        "\n",
        "                metrics_log[\"foot_positions_x\"].append(left_ankle[0])\n",
        "                prev_landmarks = results.pose_landmarks\n",
        "\n",
        "                mp_drawing.draw_landmarks(\n",
        "                    image, results.pose_landmarks, mp_pose.POSE_CONNECTIONS\n",
        "                )\n",
        "\n",
        "                cv2.putText(image, f\"Elbow: {int(elbow_angle)} deg\", (20, 40),\n",
        "                            cv2.FONT_HERSHEY_SIMPLEX, 0.8, (0, 255, 0), 2)\n",
        "                cv2.putText(image, f\"Spine Lean: {int(spine_lean)} deg\", (20, 70),\n",
        "                            cv2.FONT_HERSHEY_SIMPLEX, 0.8, (255, 200, 0), 2)\n",
        "                if metrics_log[\"head_horizontal_movement\"]:\n",
        "                    current_head_move = metrics_log[\"head_horizontal_movement\"][-1]\n",
        "                    cv2.putText(image, f\"Head Move: {current_head_move:.2f} px\", (20, 100),\n",
        "                                cv2.FONT_HERSHEY_SIMPLEX, 0.8, (0, 200, 255), 2)\n",
        "\n",
        "            out.write(image)\n",
        "\n",
        "    cap.release()\n",
        "    out.release()\n",
        "\n",
        "    with open(METRICS_FILE, \"w\") as f:\n",
        "        json.dump(metrics_log, f, indent=2)\n",
        "\n",
        "    eval_data = {\n",
        "        \"Footwork\": round(np.mean(metrics_log[\"foot_positions_x\"]), 2) if metrics_log[\"foot_positions_x\"] else 0,\n",
        "        \"Head Position\": round(np.mean(metrics_log[\"head_horizontal_movement\"]), 2) if metrics_log[\"head_horizontal_movement\"] else 0,\n",
        "        \"Swing Control\": round(np.mean(metrics_log[\"elbow_angles\"]), 2) if metrics_log[\"elbow_angles\"] else 0,\n",
        "        \"Balance\": round(np.mean(metrics_log[\"spine_leans\"]), 2) if metrics_log[\"spine_leans\"] else 0,\n",
        "        \"Follow-through\": \"Needs custom logic\"\n",
        "    }\n",
        "\n",
        "    feedback_text = generate_feedback_with_gemini(eval_data)\n",
        "    eval_data[\"AI_Feedback\"] = feedback_text\n",
        "\n",
        "    with open(EVAL_FILE, \"w\") as f:\n",
        "        json.dump(eval_data, f, indent=2)\n",
        "\n",
        "    print(f\"Saved: {OUTPUT_VIDEO}, {METRICS_FILE}, {EVAL_FILE}\")"
      ],
      "metadata": {
        "id": "Tw0jwyfM-BkC"
      },
      "execution_count": null,
      "outputs": []
    },
    {
      "cell_type": "markdown",
      "source": [
        "##  **Automatic Phase Segmentation**"
      ],
      "metadata": {
        "id": "pP6SbR6gRJU0"
      }
    },
    {
      "cell_type": "code",
      "source": [
        "def phase_segmentation(video_path, output_video_path):\n",
        "    # Heuristics and state for phase detection\n",
        "    BOWLER_DELIVERY_THRESHOLD = 5.0\n",
        "    BATSMAN_DOWNSWING_THRESHOLD = 5.0\n",
        "    IMPACT_ELBOW_THRESHOLD = 110.0\n",
        "    FOLLOW_THROUGH_THRESHOLD = 10.0\n",
        "    RECOVERY_THRESHOLD = 5.0\n",
        "    SLOW_DOWN_FACTOR = 3\n",
        "\n",
        "    cap = cv2.VideoCapture(video_path)\n",
        "    if not cap.isOpened():\n",
        "        print(f\"Error: Could not open video file {video_path}\")\n",
        "        return\n",
        "\n",
        "    fps = int(cap.get(cv2.CAP_PROP_FPS)) or 25\n",
        "    width = int(cap.get(cv2.CAP_PROP_FRAME_WIDTH))\n",
        "    height = int(cap.get(cv2.CAP_PROP_FRAME_HEIGHT))\n",
        "\n",
        "    out = cv2.VideoWriter(\n",
        "        output_video_path, cv2.VideoWriter_fourcc(*\"mp4v\"), fps, (width, height)\n",
        "    )\n",
        "\n",
        "    phase = \"Stance\"\n",
        "    prev_batsman_wrist_y = None\n",
        "    prev_bowler_wrist_y = None\n",
        "\n",
        "    with mp_pose.Pose(min_detection_confidence=0.5, min_tracking_confidence=0.5) as pose:\n",
        "        while cap.isOpened():\n",
        "            ret, frame = cap.read()\n",
        "            if not ret:\n",
        "                break\n",
        "\n",
        "            image = cv2.cvtColor(frame, cv2.COLOR_BGR2RGB)\n",
        "            results = pose.process(image)\n",
        "            image = cv2.cvtColor(image, cv2.COLOR_RGB2BGR)\n",
        "\n",
        "            if results.pose_landmarks:\n",
        "                lm = results.pose_landmarks.landmark\n",
        "\n",
        "                def get_point(idx):\n",
        "                    return [lm[idx].x * width, lm[idx].y * height]\n",
        "\n",
        "                batsman_wrist = get_point(mp_pose.PoseLandmark.LEFT_WRIST.value)\n",
        "                batsman_elbow = get_point(mp_pose.PoseLandmark.LEFT_ELBOW.value)\n",
        "                batsman_shoulder = get_point(mp_pose.PoseLandmark.LEFT_SHOULDER.value)\n",
        "\n",
        "                bowler_wrist = get_point(mp_pose.PoseLandmark.RIGHT_WRIST.value)\n",
        "\n",
        "                if prev_batsman_wrist_y is not None and prev_bowler_wrist_y is not None:\n",
        "                    batsman_wrist_movement_y = batsman_wrist[1] - prev_batsman_wrist_y\n",
        "                    bowler_wrist_movement_y = bowler_wrist[1] - prev_bowler_wrist_y\n",
        "\n",
        "                    if phase == \"Stance\":\n",
        "                        if bowler_wrist_movement_y > BOWLER_DELIVERY_THRESHOLD:\n",
        "                            phase = \"Pre-Swing\"\n",
        "                    elif phase == \"Pre-Swing\":\n",
        "                        if batsman_wrist_movement_y > BATSMAN_DOWNSWING_THRESHOLD:\n",
        "                            phase = \"Downswing\"\n",
        "                    elif phase == \"Downswing\":\n",
        "                        elbow_angle = calculate_angle(batsman_shoulder, batsman_elbow, batsman_wrist)\n",
        "                        if elbow_angle < IMPACT_ELBOW_THRESHOLD and batsman_wrist_movement_y > FOLLOW_THROUGH_THRESHOLD:\n",
        "                            phase = \"Impact/Follow-through\"\n",
        "                    elif phase == \"Impact/Follow-through\":\n",
        "                        if batsman_wrist_movement_y > FOLLOW_THROUGH_THRESHOLD:\n",
        "                            phase = \"Recovery\"\n",
        "                    elif phase == \"Recovery\":\n",
        "                        if abs(batsman_wrist_movement_y) < RECOVERY_THRESHOLD:\n",
        "                            phase = \"Stance\"\n",
        "\n",
        "                prev_batsman_wrist_y = batsman_wrist[1]\n",
        "                prev_bowler_wrist_y = bowler_wrist[1]\n",
        "\n",
        "                mp_drawing.draw_landmarks(\n",
        "                    image, results.pose_landmarks, mp_pose.POSE_CONNECTIONS\n",
        "                )\n",
        "\n",
        "                cv2.putText(image, f\"Phase: {phase}\", (20, 130),\n",
        "                            cv2.FONT_HERSHEY_SIMPLEX, 0.8, (255, 255, 255), 2)\n",
        "\n",
        "            if phase in [\"Downswing\", \"Impact/Follow-through\"]:\n",
        "                for _ in range(SLOW_DOWN_FACTOR):\n",
        "                    out.write(image)\n",
        "            else:\n",
        "                out.write(image)\n",
        "\n",
        "    cap.release()\n",
        "    out.release()\n",
        "    print(f\"Saved segmented video to: {output_video_path}\")"
      ],
      "metadata": {
        "id": "i69virRSRVAO"
      },
      "execution_count": null,
      "outputs": []
    },
    {
      "cell_type": "markdown",
      "source": [
        "##  **Basic Bat Detection/Tracking**"
      ],
      "metadata": {
        "id": "YbMhmfgph282"
      }
    },
    {
      "cell_type": "code",
      "source": [
        "def analyze_bat_path(video_path, output_path):\n",
        "    \"\"\"\n",
        "    Analyzes the video to approximate bat movement and swing path.\n",
        "    It uses the player's pose landmarks to create a bat line and visualizes its angle.\n",
        "    \"\"\"\n",
        "    cap = cv2.VideoCapture(video_path)\n",
        "    if not cap.isOpened():\n",
        "        print(f\"Error: Could not open video file {video_path}\")\n",
        "        return\n",
        "\n",
        "    fps = int(cap.get(cv2.CAP_PROP_FPS)) or 25\n",
        "    width = int(cap.get(cv2.CAP_PROP_FRAME_WIDTH))\n",
        "    height = int(cap.get(cv2.CAP_PROP_FRAME_HEIGHT))\n",
        "\n",
        "    out = cv2.VideoWriter(\n",
        "        output_path, cv2.VideoWriter_fourcc(*\"mp4v\"), fps, (width, height)\n",
        "    )\n",
        "\n",
        "    swing_angles = []\n",
        "\n",
        "    # Heuristics and state for phase detection\n",
        "    BOWLER_DELIVERY_THRESHOLD = 5.0\n",
        "    BATSMAN_DOWNSWING_THRESHOLD = 5.0\n",
        "    SLOW_DOWN_FACTOR = 3\n",
        "\n",
        "    phase = \"Stance\"\n",
        "    prev_batsman_wrist_y = None\n",
        "    prev_bowler_wrist_y = None\n",
        "\n",
        "    with mp_pose.Pose(min_detection_confidence=0.5, min_tracking_confidence=0.5) as pose:\n",
        "        while cap.isOpened():\n",
        "            ret, frame = cap.read()\n",
        "            if not ret:\n",
        "                break\n",
        "\n",
        "            image = cv2.cvtColor(frame, cv2.COLOR_BGR2RGB)\n",
        "            results = pose.process(image)\n",
        "            image = cv2.cvtColor(image, cv2.COLOR_RGB2BGR)\n",
        "\n",
        "            if results.pose_landmarks:\n",
        "                lm = results.pose_landmarks.landmark\n",
        "\n",
        "                def get_point(idx):\n",
        "                    return [lm[idx].x * width, lm[idx].y * height]\n",
        "\n",
        "                batsman_wrist = get_point(mp_pose.PoseLandmark.LEFT_WRIST.value)\n",
        "                batsman_elbow = get_point(mp_pose.PoseLandmark.LEFT_ELBOW.value)\n",
        "                batsman_shoulder = get_point(mp_pose.PoseLandmark.LEFT_SHOULDER.value)\n",
        "\n",
        "                bowler_wrist = get_point(mp_pose.PoseLandmark.RIGHT_WRIST.value)\n",
        "\n",
        "                bat_length_factor = 2.0\n",
        "                bat_tip_x = batsman_wrist[0] + (batsman_wrist[0] - batsman_elbow[0]) * bat_length_factor\n",
        "                bat_tip_y = batsman_wrist[1] + (batsman_wrist[1] - batsman_elbow[1]) * bat_length_factor\n",
        "                bat_tip = [bat_tip_x, bat_tip_y]\n",
        "\n",
        "                vertical_point = [batsman_wrist[0], batsman_wrist[1] - 100]\n",
        "                swing_angle = calculate_angle(bat_tip, batsman_wrist, vertical_point)\n",
        "                swing_angles.append(swing_angle)\n",
        "\n",
        "                if prev_batsman_wrist_y is not None and prev_bowler_wrist_y is not None:\n",
        "                    batsman_wrist_movement_y = batsman_wrist[1] - prev_batsman_wrist_y\n",
        "                    bowler_wrist_movement_y = bowler_wrist[1] - prev_bowler_wrist_y\n",
        "\n",
        "                    if phase == \"Stance\":\n",
        "                        if bowler_wrist_movement_y > BOWLER_DELIVERY_THRESHOLD:\n",
        "                            phase = \"Pre-Swing\"\n",
        "                    elif phase == \"Pre-Swing\":\n",
        "                        if batsman_wrist_movement_y > BATSMAN_DOWNSWING_THRESHOLD:\n",
        "                            phase = \"Downswing\"\n",
        "                    elif phase == \"Downswing\":\n",
        "                        if batsman_wrist_movement_y < 1.0:\n",
        "                            phase = \"Recovery\"\n",
        "                    elif phase == \"Recovery\":\n",
        "                        if abs(batsman_wrist_movement_y) < 1.0:\n",
        "                            phase = \"Stance\"\n",
        "\n",
        "                prev_batsman_wrist_y = batsman_wrist[1]\n",
        "                prev_bowler_wrist_y = bowler_wrist[1]\n",
        "\n",
        "                cv2.line(image, (int(batsman_wrist[0]), int(batsman_wrist[1])), (int(bat_tip[0]), int(bat_tip[1])), (0, 255, 255), 2)\n",
        "                cv2.circle(image, (int(bat_tip[0]), int(bat_tip[1])), 10, (0, 255, 255), -1)\n",
        "\n",
        "                text = f\"Swing Angle: {int(swing_angle)} deg\"\n",
        "                font = cv2.FONT_HERSHEY_SIMPLEX\n",
        "                font_scale = 0.8\n",
        "                font_thickness = 2\n",
        "                text_size, _ = cv2.getTextSize(text, font, font_scale, font_thickness)\n",
        "                text_w, text_h = text_size\n",
        "                cv2.rectangle(image, (20, 80), (20 + text_w, 80 + text_h + 5), (0, 0, 0), -1)\n",
        "                cv2.putText(image, text, (20, 80 + text_h), font, font_scale, (255, 255, 255), font_thickness)\n",
        "\n",
        "                mp_drawing.draw_landmarks(\n",
        "                    image, results.pose_landmarks, mp_pose.POSE_CONNECTIONS\n",
        "                )\n",
        "\n",
        "            if phase in [\"Pre-Swing\", \"Downswing\"]:\n",
        "                for _ in range(SLOW_DOWN_FACTOR):\n",
        "                    out.write(image)\n",
        "            else:\n",
        "                out.write(image)\n",
        "\n",
        "    cap.release()\n",
        "    out.release()\n",
        "\n",
        "    print(f\"Saved bat swing analysis video to: {output_path}\")\n",
        "\n",
        "    if swing_angles:\n",
        "        avg_swing_angle = np.mean(swing_angles)\n",
        "        print(f\"Average swing angle during the video: {avg_swing_angle:.2f} degrees\")\n",
        "    else:\n",
        "        print(\"Could not calculate swing angles.\")\n"
      ],
      "metadata": {
        "id": "xLQJLcy0h9pi"
      },
      "execution_count": null,
      "outputs": []
    },
    {
      "cell_type": "markdown",
      "source": [
        "## **Complete Report**"
      ],
      "metadata": {
        "id": "wyIOySA2s-nN"
      }
    },
    {
      "cell_type": "code",
      "source": [
        "def create_analysis_report(metrics_file, report_file):\n",
        "    \"\"\"\n",
        "    Creates a visual report of the player's biomechanics over time and saves it as a PNG.\n",
        "    \"\"\"\n",
        "    with open(metrics_file, 'r') as f:\n",
        "        metrics_log = json.load(f)\n",
        "\n",
        "    elbow_angles = metrics_log.get('elbow_angles', [])\n",
        "    spine_leans = metrics_log.get('spine_leans', [])\n",
        "\n",
        "    if not elbow_angles or not spine_leans:\n",
        "        print(\"Error: Metrics data is empty. Cannot create report.\")\n",
        "        return\n",
        "\n",
        "    frames = np.arange(len(elbow_angles))\n",
        "\n",
        "    # Calculate smoothness metrics (frame-to-frame deltas)\n",
        "    elbow_deltas = np.diff(elbow_angles)\n",
        "    spine_deltas = np.diff(spine_leans)\n",
        "\n",
        "    # Create the plot\n",
        "    plt.style.use('dark_background')\n",
        "    fig, ax1 = plt.subplots(figsize=(12, 6))\n",
        "\n",
        "    color_elbow = 'tab:blue'\n",
        "    ax1.set_xlabel('Frame Number')\n",
        "    ax1.set_ylabel('Elbow Angle (deg)', color=color_elbow)\n",
        "    ax1.plot(frames, elbow_angles, color=color_elbow, label='Elbow Angle')\n",
        "    ax1.tick_params(axis='y', labelcolor=color_elbow)\n",
        "    ax1.grid(True, linestyle='--', alpha=0.6)\n",
        "\n",
        "    ax2 = ax1.twinx()  # instantiate a second axes that shares the same x-axis\n",
        "    color_spine = 'tab:orange'\n",
        "    ax2.set_ylabel('Spine Lean (deg)', color=color_spine)\n",
        "    ax2.plot(frames, spine_leans, color=color_spine, label='Spine Lean')\n",
        "    ax2.tick_params(axis='y', labelcolor=color_spine)\n",
        "\n",
        "    plt.title('Player Biomechanics Over Time', color='white')\n",
        "    fig.tight_layout()\n",
        "    fig.legend(loc='upper right', bbox_to_anchor=(1, 1), bbox_transform=ax1.transAxes)\n",
        "\n",
        "    plt.savefig(report_file, dpi=100)\n",
        "    print(f\"Saved analysis report to: {report_file}\")\n",
        "    plt.close(fig)\n"
      ],
      "metadata": {
        "id": "shDjEuSas6VS"
      },
      "execution_count": null,
      "outputs": []
    },
    {
      "cell_type": "markdown",
      "source": [
        "## **Main Function**"
      ],
      "metadata": {
        "id": "PSRRqZ9OoBd6"
      }
    },
    {
      "cell_type": "code",
      "source": [
        "def main():\n",
        "    \"\"\"\n",
        "    Main function to orchestrate all video analysis tasks.\n",
        "    \"\"\"\n",
        "    print(\"Starting video analysis...\")\n",
        "\n",
        "    # 1. Biomechanical Analysis\n",
        "    print(\"Running biomechanical analysis...\")\n",
        "    analyze_video(VIDEO_PATH)\n",
        "\n",
        "    print(\"\\n---\")\n",
        "\n",
        "    # 2. Phase Segmentation\n",
        "    print(\"Running phase segmentation...\")\n",
        "    phase_segmentation(VIDEO_PATH, OUTPUT_PS)\n",
        "\n",
        "    print(\"\\n---\")\n",
        "\n",
        "    # 3. Bat Path Analysis\n",
        "    print(\"Running bat path analysis...\")\n",
        "    analyze_bat_path(VIDEO_PATH, SWING_VIDEO_FILE)\n",
        "\n",
        "    print(\"\\n---\")\n",
        "\n",
        "    # 4. Analysis Report\n",
        "    print(\"Generating biomechanics report...\")\n",
        "    create_analysis_report(METRICS_FILE, REPORT_FILE)\n",
        "\n",
        "    print(\"\\nVideo analysis complete. Check the 'output' folder for results.\")\n",
        "\n",
        "# --- Call the main function ---\n",
        "if __name__ == '__main__':\n",
        "    main()\n"
      ],
      "metadata": {
        "colab": {
          "base_uri": "https://localhost:8080/"
        },
        "id": "HRLFQbtCh-MM",
        "outputId": "5892f471-9414-4226-9e89-00fd307b979d"
      },
      "execution_count": null,
      "outputs": [
        {
          "output_type": "stream",
          "name": "stdout",
          "text": [
            "Starting video analysis...\n",
            "Running biomechanical analysis...\n",
            "Saved: output/annotated_video.mp4, output/metrics_log.json, output/evaluation.json\n",
            "\n",
            "---\n",
            "Running phase segmentation...\n",
            "Saved segmented video to: output/output_phase_seg.mp4\n",
            "\n",
            "---\n",
            "Running bat path analysis...\n",
            "Saved bat swing analysis video to: output/bat_swing_analysis.mp4\n",
            "Average swing angle during the video: 120.41 degrees\n",
            "\n",
            "---\n",
            "Generating biomechanics report...\n",
            "Saved analysis report to: output/biomechanics_report.png\n",
            "\n",
            "Video analysis complete. Check the 'output' folder for results.\n"
          ]
        }
      ]
    }
  ]
}